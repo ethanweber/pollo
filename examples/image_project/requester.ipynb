{
 "cells": [
  {
   "cell_type": "markdown",
   "id": "8637eb73",
   "metadata": {},
   "source": [
    "# Image project example\n",
    "\n",
    "Let's walk through a toy example of using `🐥 pollo`!"
   ]
  },
  {
   "cell_type": "code",
   "execution_count": 1,
   "id": "b44377de-8276-483d-8264-99d3f19e4b1b",
   "metadata": {},
   "outputs": [],
   "source": [
    "# Autoreload extension for interactive development\n",
    "%load_ext autoreload\n",
    "%autoreload 2\n",
    "\n",
    "# Standard library imports\n",
    "import json\n",
    "import os\n",
    "from pprint import pprint\n",
    "from dataclasses import dataclass\n",
    "import glob\n",
    "from IPython.core.display import HTML\n",
    "from IPython.display import display\n",
    "\n",
    "# Local application/library specific imports\n",
    "from pollo.utils.hit import HitMaker\n",
    "import pollo.utils.io as io_utils\n",
    "from pollo.requester import Requester"
   ]
  },
  {
   "cell_type": "markdown",
   "id": "b7027295",
   "metadata": {},
   "source": [
    "# Put media in `data/media`\n",
    "\n",
    "We created images with DALL-E 2. We created 10 images with each of the text prompts \"realistic chicken\" and \"cartoon chicken\" and resized the images to 256x256."
   ]
  },
  {
   "cell_type": "markdown",
   "id": "51eb6e86-a2ff-4b61-9e69-a7fe498eea11",
   "metadata": {},
   "source": [
    "# Create and save HITs"
   ]
  },
  {
   "cell_type": "code",
   "execution_count": 2,
   "id": "1fce691e",
   "metadata": {},
   "outputs": [
    {
     "name": "stdout",
     "output_type": "stream",
     "text": [
      "{'settings': {'expected_seconds_per_query_example': 20,\n",
      "              'image_height': 300,\n",
      "              'image_max_width': 500,\n",
      "              'min_seconds_per_query_example': 1,\n",
      "              'task': 'nerfiller_tasks',\n",
      "              'task_question': 'What image looks better?'}}\n"
     ]
    }
   ],
   "source": [
    "@dataclass\n",
    "class ImageHitMaker(HitMaker):\n",
    "    \"\"\"Image hit maker.\"\"\"\n",
    "\n",
    "    expected_seconds_per_query_example: int = 20\n",
    "    endpoint: str = \"http://localhost:40110\"\n",
    "    # endpoint: str = \"https://191c-128-32-162-182.ngrok-free.app\"\n",
    "\n",
    "hit_maker = ImageHitMaker()\n",
    "hit = hit_maker.get_default_hit()\n",
    "pprint(hit)"
   ]
  },
  {
   "cell_type": "code",
   "execution_count": 3,
   "id": "b8c0f5aa",
   "metadata": {},
   "outputs": [
    {
     "name": "stdout",
     "output_type": "stream",
     "text": [
      "Instructions:\n",
      "\n",
      "\n"
     ]
    },
    {
     "data": {
      "text/html": [
       "\n",
       "<p>Instructions: Given two images of chickens, identify which image looks more realistic. Judge based on quality.\n",
       "<p></p>\n",
       "<p>Description of the options:</p>\n",
       "<ul>\n",
       "    <li><strong>Image 0</strong>: The first option looks better.</li>\n",
       "    <li><strong>Image 1</strong>: The second option looks better.</li>\n",
       "</ul>\n",
       "<p>There are quality checks and failure to be consistent in your responses will lead to the worker not being paid and their data will be excluded from our study.</p>\n",
       "<h3>Examples that you'll encounter with suggested responses</h3>\n",
       "<p>You must click the buttons below to see the preferred responses and in order to proceed.</p>\n"
      ],
      "text/plain": [
       "<IPython.core.display.HTML object>"
      ]
     },
     "metadata": {},
     "output_type": "display_data"
    },
    {
     "name": "stdout",
     "output_type": "stream",
     "text": [
      "Example template:\n",
      "\n",
      "\n"
     ]
    }
   ],
   "source": [
    "instructions_div = \"\"\"\n",
    "<p>Instructions: Given two images of chickens, identify which image looks more realistic. Judge based on quality.\n",
    "<p></p>\n",
    "<p>Description of the options:</p>\n",
    "<ul>\n",
    "    <li><strong>Image 0</strong>: The first option looks better.</li>\n",
    "    <li><strong>Image 1</strong>: The second option looks better.</li>\n",
    "</ul>\n",
    "<p>There are quality checks and failure to be consistent in your responses will lead to the worker not being paid and their data will be excluded from our study.</p>\n",
    "<h3>Examples that you'll encounter with suggested responses</h3>\n",
    "<p>You must click the buttons below to see the preferred responses and in order to proceed.</p>\n",
    "\"\"\"\n",
    "\n",
    "print(\"Instructions:\\n\\n\")\n",
    "\n",
    "display(HTML(instructions_div))\n",
    "\n",
    "print(\"Example template:\\n\\n\")"
   ]
  },
  {
   "cell_type": "code",
   "execution_count": 4,
   "id": "35914a53",
   "metadata": {},
   "outputs": [
    {
     "name": "stdout",
     "output_type": "stream",
     "text": [
      "['http://localhost:40110/media/cartoon-chicken/cartoon-chicken-000.png',\n",
      " 'http://localhost:40110/media/cartoon-chicken/cartoon-chicken-001.png',\n",
      " 'http://localhost:40110/media/cartoon-chicken/cartoon-chicken-002.png',\n",
      " 'http://localhost:40110/media/cartoon-chicken/cartoon-chicken-003.png',\n",
      " 'http://localhost:40110/media/cartoon-chicken/cartoon-chicken-004.png',\n",
      " 'http://localhost:40110/media/cartoon-chicken/cartoon-chicken-005.png',\n",
      " 'http://localhost:40110/media/cartoon-chicken/cartoon-chicken-006.png',\n",
      " 'http://localhost:40110/media/cartoon-chicken/cartoon-chicken-007.png',\n",
      " 'http://localhost:40110/media/cartoon-chicken/cartoon-chicken-008.png',\n",
      " 'http://localhost:40110/media/cartoon-chicken/cartoon-chicken-009.png']\n"
     ]
    }
   ],
   "source": [
    "cc_filenames = sorted(glob.glob(\"data/media/cartoon-chicken/*.png\"))\n",
    "rc_filenames = sorted(glob.glob(\"data/media/realistic-chicken/*.png\"))\n",
    "cc_urls = [f\"{hit_maker.endpoint}/media/{filename[filename.find('data/media') + 11:]}\" for filename in cc_filenames]\n",
    "rc_urls = [f\"{hit_maker.endpoint}/media/{filename[filename.find('data/media') + 11:]}\" for filename in rc_filenames]\n",
    "\n",
    "pprint(cc_urls)\n",
    "\n",
    "query_examples = []\n",
    "for i in range(len(cc_urls)):\n",
    "    query_examples.append({\n",
    "        \"template_name\": \"ImageExampleTemplate\",\n",
    "        \"choices\": [\n",
    "            cc_urls[i],\n",
    "            rc_urls[i],\n",
    "        ]\n",
    "    })\n",
    "examples = []\n",
    "for i in range(3):\n",
    "    examples.append({\n",
    "        \"template_name\": \"ImageExampleTemplate\",\n",
    "        \"choices\": [\n",
    "            cc_urls[i],\n",
    "            rc_urls[i],\n",
    "        ],\n",
    "        \"answer\": \"1\",\n",
    "        \"description\": \"Video 0 is fuzzy in the pink region, which is unrealistic and not desired. Video 1 is sharper and more realistic.\"\n",
    "    })\n",
    "hit = hit_maker.get_default_hit()\n",
    "hit[\"settings\"][\"instructions_div\"] = instructions_div\n",
    "hit[\"EXAMPLES\"] = examples\n",
    "hit[\"QUERY_EXAMPLES\"] = query_examples\n",
    "hit[\"GT_HIDDEN_EXAMPLES\"] = []\n",
    "config_name = \"hit-000000\"\n",
    "io_utils.write_to_json(os.path.join(\"data/hits\", config_name + \".json\"), hit)"
   ]
  },
  {
   "cell_type": "markdown",
   "id": "e08ec1d4",
   "metadata": {},
   "source": [
    "# View the HITs"
   ]
  },
  {
   "cell_type": "code",
   "execution_count": 5,
   "id": "c73da20b",
   "metadata": {},
   "outputs": [
    {
     "name": "stdout",
     "output_type": "stream",
     "text": [
      "Created HIT:\n",
      "http://localhost:40110/hits-interface/hit-000000\n",
      "http://localhost:40110/hits-interface/hit-000000\n",
      "http://localhost:40110/hits-interface/hit-000000\n",
      "http://localhost:40110/hits-interface/hit-000000\n",
      "http://localhost:40110/hits-interface/hit-000000\n"
     ]
    }
   ],
   "source": [
    "print(\"Created HIT:\")\n",
    "external_urls = [f\"{hit_maker.endpoint}/hits-interface/{config_name}\"] * 5\n",
    "print(\"\\n\".join(external_urls))"
   ]
  },
  {
   "cell_type": "markdown",
   "id": "bd9a8781-1ec1-46f5-8563-e51b2c05fd94",
   "metadata": {},
   "source": [
    "### Launch some HITs and monitor progress"
   ]
  },
  {
   "cell_type": "code",
   "execution_count": 6,
   "id": "4d5e5a0b-c8d5-4785-b5ff-e85d4316845a",
   "metadata": {},
   "outputs": [
    {
     "name": "stdout",
     "output_type": "stream",
     "text": [
      "10000.00\n"
     ]
    }
   ],
   "source": [
    "use_sandbox = True\n",
    "DATABASE_FILENAME = \"mturk_database.pkl\"\n",
    "CREDS_FILENAME = \"mturk_creds.json\"\n",
    "\n",
    "requester = Requester(use_sandbox=use_sandbox,\n",
    "                      database_filename=DATABASE_FILENAME,\n",
    "                      creds_filename=CREDS_FILENAME)\n",
    "requester.show_account_balance()"
   ]
  },
  {
   "cell_type": "code",
   "execution_count": 7,
   "id": "b99cbab0-b5a9-421a-868a-9f0008c51a01",
   "metadata": {},
   "outputs": [],
   "source": [
    "lifetime_hours = 1\n",
    "per_hit_minutes = 15\n",
    "cost_per_hit = '0.5'\n",
    "days_until_autoapprove = 2\n",
    "estimated_time_in_minutes = 10\n",
    "task_attributes = {\n",
    "    # Number of assignments per task.\n",
    "    'MaxAssignments': 1,\n",
    "    # How long the task will be available on MTurk\n",
    "    'LifetimeInSeconds': 60 * 60 * lifetime_hours,\n",
    "    # How long Workers have to complete each item\n",
    "    'AssignmentDurationInSeconds': 60 * per_hit_minutes,\n",
    "    # The reward you will offer Workers for each response\n",
    "    'Reward': cost_per_hit,\n",
    "    'Title': 'Choosing which video looks better. (~{} min)'.format(estimated_time_in_minutes),\n",
    "    'Keywords': 'video, choice, computer vison, selection',\n",
    "    'Description': 'Choose which of the two videos looks better.',\n",
    "    'AutoApprovalDelayInSeconds': days_until_autoapprove * (60*60*24)\n",
    "}\n",
    "requester.set_task_attributes(task_attributes)"
   ]
  },
  {
   "cell_type": "code",
   "execution_count": 8,
   "id": "f24a8d42-46b3-4647-aefb-bc766337a664",
   "metadata": {
    "tags": []
   },
   "outputs": [
    {
     "name": "stderr",
     "output_type": "stream",
     "text": [
      "  0%|          | 0/5 [00:00<?, ?it/s]\n"
     ]
    },
    {
     "ename": "ClientError",
     "evalue": "An error occurred (ParameterValidationError) when calling the CreateHIT operation: The value \"http://localhost:40110/hits-interface/hit-000000\" is not valid for the parameter ExternalURL. This URL must use the HTTPS protocol.. (1706730928798 s)",
     "output_type": "error",
     "traceback": [
      "\u001b[0;31m---------------------------------------------------------------------------\u001b[0m",
      "\u001b[0;31mClientError\u001b[0m                               Traceback (most recent call last)",
      "Cell \u001b[0;32mIn [8], line 1\u001b[0m\n\u001b[0;32m----> 1\u001b[0m hit_ids \u001b[38;5;241m=\u001b[39m \u001b[43mrequester\u001b[49m\u001b[38;5;241;43m.\u001b[39;49m\u001b[43msubmit_hits_from_external_urls\u001b[49m\u001b[43m(\u001b[49m\u001b[43mexternal_urls\u001b[49m\u001b[43m)\u001b[49m\n",
      "File \u001b[0;32m~/pollo/pollo/requester.py:141\u001b[0m, in \u001b[0;36mRequester.submit_hits_from_external_urls\u001b[0;34m(self, external_urls)\u001b[0m\n\u001b[1;32m    139\u001b[0m hit_ids \u001b[38;5;241m=\u001b[39m []\n\u001b[1;32m    140\u001b[0m \u001b[38;5;28;01mfor\u001b[39;00m external_url \u001b[38;5;129;01min\u001b[39;00m tqdm(external_urls):\n\u001b[0;32m--> 141\u001b[0m     hit_id \u001b[38;5;241m=\u001b[39m \u001b[38;5;28;43mself\u001b[39;49m\u001b[38;5;241;43m.\u001b[39;49m\u001b[43msubmit_hit_with_external_url\u001b[49m\u001b[43m(\u001b[49m\u001b[43mexternal_url\u001b[49m\u001b[43m)\u001b[49m\n\u001b[1;32m    142\u001b[0m     hit_ids\u001b[38;5;241m.\u001b[39mappend(hit_id)\n\u001b[1;32m    143\u001b[0m \u001b[38;5;28;01mreturn\u001b[39;00m hit_ids\n",
      "File \u001b[0;32m~/pollo/pollo/requester.py:122\u001b[0m, in \u001b[0;36mRequester.submit_hit_with_external_url\u001b[0;34m(self, external_url)\u001b[0m\n\u001b[1;32m    114\u001b[0m     \u001b[38;5;28;01mraise\u001b[39;00m \u001b[38;5;167;01mValueError\u001b[39;00m(\u001b[38;5;124m\"\u001b[39m\u001b[38;5;124myou potentially already submitted this!\u001b[39m\u001b[38;5;124m\"\u001b[39m)\n\u001b[1;32m    115\u001b[0m question_xml \u001b[38;5;241m=\u001b[39m \u001b[38;5;124m\"\"\"\u001b[39m\n\u001b[1;32m    116\u001b[0m \u001b[38;5;124m    <ExternalQuestion xmlns=\u001b[39m\u001b[38;5;124m\"\u001b[39m\u001b[38;5;124mhttp://mechanicalturk.amazonaws.com/AWSMechanicalTurkDataSchemas/2006-07-14/ExternalQuestion.xsd\u001b[39m\u001b[38;5;124m\"\u001b[39m\u001b[38;5;124m>\u001b[39m\n\u001b[1;32m    117\u001b[0m \u001b[38;5;124m       <ExternalURL>\u001b[39m\u001b[38;5;132;01m{}\u001b[39;00m\u001b[38;5;124m</ExternalURL>\u001b[39m\n\u001b[0;32m   (...)\u001b[0m\n\u001b[1;32m    120\u001b[0m     external_url\n\u001b[1;32m    121\u001b[0m )\n\u001b[0;32m--> 122\u001b[0m response \u001b[38;5;241m=\u001b[39m \u001b[38;5;28;43mself\u001b[39;49m\u001b[38;5;241;43m.\u001b[39;49m\u001b[43mclient\u001b[49m\u001b[38;5;241;43m.\u001b[39;49m\u001b[43mcreate_hit\u001b[49m\u001b[43m(\u001b[49m\n\u001b[1;32m    123\u001b[0m \u001b[43m    \u001b[49m\u001b[38;5;241;43m*\u001b[39;49m\u001b[38;5;241;43m*\u001b[39;49m\u001b[38;5;28;43mself\u001b[39;49m\u001b[38;5;241;43m.\u001b[39;49m\u001b[43mtask_attributes\u001b[49m\u001b[43m,\u001b[49m\u001b[43m \u001b[49m\u001b[43mQuestion\u001b[49m\u001b[38;5;241;43m=\u001b[39;49m\u001b[43mquestion_xml\u001b[49m\u001b[43m,\u001b[49m\u001b[43m \u001b[49m\u001b[43mQualificationRequirements\u001b[49m\u001b[38;5;241;43m=\u001b[39;49m\u001b[38;5;28;43mself\u001b[39;49m\u001b[38;5;241;43m.\u001b[39;49m\u001b[43mworker_requirements\u001b[49m\n\u001b[1;32m    124\u001b[0m \u001b[43m\u001b[49m\u001b[43m)\u001b[49m\n\u001b[1;32m    125\u001b[0m hit_id \u001b[38;5;241m=\u001b[39m response[\u001b[38;5;124m\"\u001b[39m\u001b[38;5;124mHIT\u001b[39m\u001b[38;5;124m\"\u001b[39m][\u001b[38;5;124m\"\u001b[39m\u001b[38;5;124mHITId\u001b[39m\u001b[38;5;124m\"\u001b[39m]\n\u001b[1;32m    126\u001b[0m \u001b[38;5;66;03m# update database\u001b[39;00m\n",
      "File \u001b[0;32m~/miniconda3/envs/nerfstudio/lib/python3.8/site-packages/botocore/client.py:553\u001b[0m, in \u001b[0;36mClientCreator._create_api_method.<locals>._api_call\u001b[0;34m(self, *args, **kwargs)\u001b[0m\n\u001b[1;32m    549\u001b[0m     \u001b[38;5;28;01mraise\u001b[39;00m \u001b[38;5;167;01mTypeError\u001b[39;00m(\n\u001b[1;32m    550\u001b[0m         \u001b[38;5;124mf\u001b[39m\u001b[38;5;124m\"\u001b[39m\u001b[38;5;132;01m{\u001b[39;00mpy_operation_name\u001b[38;5;132;01m}\u001b[39;00m\u001b[38;5;124m() only accepts keyword arguments.\u001b[39m\u001b[38;5;124m\"\u001b[39m\n\u001b[1;32m    551\u001b[0m     )\n\u001b[1;32m    552\u001b[0m \u001b[38;5;66;03m# The \"self\" in this scope is referring to the BaseClient.\u001b[39;00m\n\u001b[0;32m--> 553\u001b[0m \u001b[38;5;28;01mreturn\u001b[39;00m \u001b[38;5;28;43mself\u001b[39;49m\u001b[38;5;241;43m.\u001b[39;49m\u001b[43m_make_api_call\u001b[49m\u001b[43m(\u001b[49m\u001b[43moperation_name\u001b[49m\u001b[43m,\u001b[49m\u001b[43m \u001b[49m\u001b[43mkwargs\u001b[49m\u001b[43m)\u001b[49m\n",
      "File \u001b[0;32m~/miniconda3/envs/nerfstudio/lib/python3.8/site-packages/botocore/client.py:1009\u001b[0m, in \u001b[0;36mBaseClient._make_api_call\u001b[0;34m(self, operation_name, api_params)\u001b[0m\n\u001b[1;32m   1005\u001b[0m     error_code \u001b[38;5;241m=\u001b[39m error_info\u001b[38;5;241m.\u001b[39mget(\u001b[38;5;124m\"\u001b[39m\u001b[38;5;124mQueryErrorCode\u001b[39m\u001b[38;5;124m\"\u001b[39m) \u001b[38;5;129;01mor\u001b[39;00m error_info\u001b[38;5;241m.\u001b[39mget(\n\u001b[1;32m   1006\u001b[0m         \u001b[38;5;124m\"\u001b[39m\u001b[38;5;124mCode\u001b[39m\u001b[38;5;124m\"\u001b[39m\n\u001b[1;32m   1007\u001b[0m     )\n\u001b[1;32m   1008\u001b[0m     error_class \u001b[38;5;241m=\u001b[39m \u001b[38;5;28mself\u001b[39m\u001b[38;5;241m.\u001b[39mexceptions\u001b[38;5;241m.\u001b[39mfrom_code(error_code)\n\u001b[0;32m-> 1009\u001b[0m     \u001b[38;5;28;01mraise\u001b[39;00m error_class(parsed_response, operation_name)\n\u001b[1;32m   1010\u001b[0m \u001b[38;5;28;01melse\u001b[39;00m:\n\u001b[1;32m   1011\u001b[0m     \u001b[38;5;28;01mreturn\u001b[39;00m parsed_response\n",
      "\u001b[0;31mClientError\u001b[0m: An error occurred (ParameterValidationError) when calling the CreateHIT operation: The value \"http://localhost:40110/hits-interface/hit-000000\" is not valid for the parameter ExternalURL. This URL must use the HTTPS protocol.. (1706730928798 s)"
     ]
    }
   ],
   "source": [
    "hit_ids = requester.submit_hits_from_external_urls(external_urls)"
   ]
  },
  {
   "cell_type": "code",
   "execution_count": null,
   "id": "0d8ec81a",
   "metadata": {},
   "outputs": [],
   "source": [
    "requester.update_database_with_responses()"
   ]
  },
  {
   "cell_type": "code",
   "execution_count": null,
   "id": "ca18ff1b",
   "metadata": {},
   "outputs": [],
   "source": [
    "responses = requester.get_responses_from_database()\n",
    "len(responses)"
   ]
  },
  {
   "cell_type": "code",
   "execution_count": null,
   "id": "a001ce3b-a689-4608-a6fb-285ced22582c",
   "metadata": {},
   "outputs": [],
   "source": [
    "requester.save_all_responses_to_files(responses)"
   ]
  }
 ],
 "metadata": {
  "interpreter": {
   "hash": "222f01b76026723deb90f6521b6c50a7801729930bc95e5d89f12540abde614b"
  },
  "kernelspec": {
   "display_name": "Python 3",
   "language": "python",
   "name": "python3"
  },
  "language_info": {
   "codemirror_mode": {
    "name": "ipython",
    "version": 3
   },
   "file_extension": ".py",
   "mimetype": "text/x-python",
   "name": "python",
   "nbconvert_exporter": "python",
   "pygments_lexer": "ipython3",
   "version": "3.8.16"
  }
 },
 "nbformat": 4,
 "nbformat_minor": 5
}
