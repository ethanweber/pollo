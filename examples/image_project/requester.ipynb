{
 "cells": [
  {
   "cell_type": "markdown",
   "id": "8637eb73",
   "metadata": {},
   "source": [
    "# Image project example\n",
    "\n",
    "Let's walk through a toy example of using `🐥 pollo`!"
   ]
  },
  {
   "cell_type": "code",
   "execution_count": 1,
   "id": "b44377de-8276-483d-8264-99d3f19e4b1b",
   "metadata": {},
   "outputs": [],
   "source": [
    "# Autoreload extension for interactive development\n",
    "%load_ext autoreload\n",
    "%autoreload 2\n",
    "\n",
    "# Standard library imports\n",
    "import json\n",
    "import os\n",
    "from pprint import pprint\n",
    "from dataclasses import dataclass\n",
    "import glob\n",
    "\n",
    "# Local application/library specific imports\n",
    "from pollo.utils.hit import HitMaker\n",
    "import pollo.utils.io as io_utils\n",
    "from pollo.requester import Requester"
   ]
  },
  {
   "cell_type": "markdown",
   "id": "b7027295",
   "metadata": {},
   "source": [
    "# Put media in `data/media`\n",
    "\n",
    "We created images with DALL-E 2. We created 10 images with each of the text prompts \"realistic chicken\" and \"cartoon chicken\" and resized the images to 256x256."
   ]
  },
  {
   "cell_type": "markdown",
   "id": "51eb6e86-a2ff-4b61-9e69-a7fe498eea11",
   "metadata": {},
   "source": [
    "# Create and save HITs"
   ]
  },
  {
   "cell_type": "code",
   "execution_count": 2,
   "id": "1fce691e",
   "metadata": {},
   "outputs": [
    {
     "name": "stdout",
     "output_type": "stream",
     "text": [
      "{'settings': {'expected_seconds_per_query_example': 20,\n",
      "              'image_height': 300,\n",
      "              'image_max_width': 500,\n",
      "              'min_seconds_per_query_example': 1}}\n"
     ]
    }
   ],
   "source": [
    "@dataclass\n",
    "class ImageHitMaker(HitMaker):\n",
    "    \"\"\"Image hit maker.\"\"\"\n",
    "\n",
    "    expected_seconds_per_query_example: int = 20\n",
    "    endpoint: str = \"https://pollo.ethanweber.me\"\n",
    "\n",
    "hit_maker = ImageHitMaker()\n",
    "hit = hit_maker.get_default_hit()\n",
    "pprint(hit)"
   ]
  },
  {
   "cell_type": "code",
   "execution_count": 21,
   "id": "35914a53",
   "metadata": {},
   "outputs": [
    {
     "name": "stdout",
     "output_type": "stream",
     "text": [
      "['https://mturk.ethanweber.me/media/cartoon-chicken/cartoon-chicken-000.png',\n",
      " 'https://mturk.ethanweber.me/media/cartoon-chicken/cartoon-chicken-001.png',\n",
      " 'https://mturk.ethanweber.me/media/cartoon-chicken/cartoon-chicken-002.png',\n",
      " 'https://mturk.ethanweber.me/media/cartoon-chicken/cartoon-chicken-003.png',\n",
      " 'https://mturk.ethanweber.me/media/cartoon-chicken/cartoon-chicken-004.png',\n",
      " 'https://mturk.ethanweber.me/media/cartoon-chicken/cartoon-chicken-005.png',\n",
      " 'https://mturk.ethanweber.me/media/cartoon-chicken/cartoon-chicken-006.png',\n",
      " 'https://mturk.ethanweber.me/media/cartoon-chicken/cartoon-chicken-007.png',\n",
      " 'https://mturk.ethanweber.me/media/cartoon-chicken/cartoon-chicken-008.png',\n",
      " 'https://mturk.ethanweber.me/media/cartoon-chicken/cartoon-chicken-009.png']\n"
     ]
    }
   ],
   "source": [
    "cc_filenames = sorted(glob.glob(\"data/media/cartoon-chicken/*.png\"))\n",
    "rc_filenames = sorted(glob.glob(\"data/media/realistic-chicken/*.png\"))\n",
    "cc_urls = [f\"https://mturk.ethanweber.me/media/{filename[filename.find('data/media') + 11:]}\" for filename in cc_filenames]\n",
    "rc_urls = [f\"https://mturk.ethanweber.me/media/{filename[filename.find('data/media') + 11:]}\" for filename in rc_filenames]\n",
    "\n",
    "pprint(cc_urls)\n",
    "\n",
    "# create a HIT\n",
    "query_examples = []\n",
    "for i in range(len(cc_urls)):\n",
    "    query_examples.append({\n",
    "        \"choices\": [\n",
    "            cc_urls[i],\n",
    "            rc_urls[i],\n",
    "        ]\n",
    "    })\n",
    "hit = hit_maker.get_default_hit()\n",
    "hit[\"query_examples\"] = query_examples\n",
    "config_name = \"hit-000000\"\n",
    "io_utils.write_to_json(os.path.join(\"data/hits\", config_name + \".json\"), hit)"
   ]
  },
  {
   "cell_type": "markdown",
   "id": "bd9a8781-1ec1-46f5-8563-e51b2c05fd94",
   "metadata": {},
   "source": [
    "### Launch some HITs and monitor progress"
   ]
  },
  {
   "cell_type": "code",
   "execution_count": null,
   "id": "4d5e5a0b-c8d5-4785-b5ff-e85d4316845a",
   "metadata": {},
   "outputs": [],
   "source": [
    "# use_sandbox = False\n",
    "# DATABASE_FILENAME = \"mturk_database.pkl\"\n",
    "# CREDS_FILENAME = \"mturk_creds.json\"\n",
    "\n",
    "# requester = Requester(use_sandbox=use_sandbox,\n",
    "#                       database_filename=DATABASE_FILENAME,\n",
    "#                       creds_filename=CREDS_FILENAME)\n",
    "# requester.show_account_balance()"
   ]
  },
  {
   "cell_type": "code",
   "execution_count": null,
   "id": "b99cbab0-b5a9-421a-868a-9f0008c51a01",
   "metadata": {},
   "outputs": [],
   "source": [
    "lifetime_hours = 1\n",
    "per_hit_minutes = 15\n",
    "cost_per_hit = '0.5'\n",
    "days_until_autoapprove = 2\n",
    "estimated_time_in_minutes = 10\n",
    "task_attributes = {\n",
    "    # Number of assignments per task.\n",
    "    'MaxAssignments': 1,\n",
    "    # How long the task will be available on MTurk\n",
    "    'LifetimeInSeconds': 60 * 60 * lifetime_hours,\n",
    "    # How long Workers have to complete each item\n",
    "    'AssignmentDurationInSeconds': 60 * per_hit_minutes,\n",
    "    # The reward you will offer Workers for each response\n",
    "    'Reward': cost_per_hit,\n",
    "    'Title': 'Choosing which video looks better. (~{} min)'.format(estimated_time_in_minutes),\n",
    "    'Keywords': 'video, choice, computer vison, selection',\n",
    "    'Description': 'Choose which of the two videos looks better.',\n",
    "    'AutoApprovalDelayInSeconds': days_until_autoapprove * (60*60*24)\n",
    "}\n",
    "requester.set_task_attributes(task_attributes)"
   ]
  },
  {
   "cell_type": "code",
   "execution_count": null,
   "id": "c9abd458",
   "metadata": {},
   "outputs": [],
   "source": [
    "# existing_external_urls = set(external_urls)"
   ]
  },
  {
   "cell_type": "code",
   "execution_count": null,
   "id": "103dcf68",
   "metadata": {},
   "outputs": [],
   "source": [
    "# existing_external_urls"
   ]
  },
  {
   "cell_type": "code",
   "execution_count": null,
   "id": "637fda2d-e3c2-4ba7-a31b-75f6f745ba7b",
   "metadata": {},
   "outputs": [],
   "source": [
    "external_urls = []\n",
    "for filename in sorted(os.listdir(HIT_FOLDER)):\n",
    "    external_url = os.path.join(ENDPOINT, \"interface\", filename.replace(\".json\", \"\"))\n",
    "    external_urls.append(external_url)"
   ]
  },
  {
   "cell_type": "code",
   "execution_count": null,
   "id": "f24a8d42-46b3-4647-aefb-bc766337a664",
   "metadata": {
    "tags": []
   },
   "outputs": [],
   "source": [
    "hit_ids = requester.submit_hits_from_external_urls(external_urls)"
   ]
  },
  {
   "cell_type": "code",
   "execution_count": null,
   "id": "0d8ec81a",
   "metadata": {},
   "outputs": [],
   "source": [
    "requester.update_database_with_responses()"
   ]
  },
  {
   "cell_type": "code",
   "execution_count": null,
   "id": "ca18ff1b",
   "metadata": {},
   "outputs": [],
   "source": [
    "responses = requester.get_responses_from_database()\n",
    "len(responses)"
   ]
  },
  {
   "cell_type": "code",
   "execution_count": null,
   "id": "6979fc65",
   "metadata": {},
   "outputs": [],
   "source": [
    "# minutes per HIT on average\n",
    "requester.get_mean_time_from_resonses(responses) / 60"
   ]
  },
  {
   "cell_type": "code",
   "execution_count": null,
   "id": "a001ce3b-a689-4608-a6fb-285ced22582c",
   "metadata": {},
   "outputs": [],
   "source": [
    "requester.save_all_responses_to_files(responses)"
   ]
  },
  {
   "cell_type": "code",
   "execution_count": null,
   "id": "33c2a9ab",
   "metadata": {},
   "outputs": [],
   "source": [
    "# process all the results\n",
    "\n",
    "responses_path = \"/home/ethanweber/nerfiller-user-study/static/data/responses\"\n",
    "responses_filenames = sorted(os.listdir(responses_path))\n",
    "\n",
    "from collections import defaultdict\n",
    "baseline_to_choice = defaultdict(list)\n",
    "baseline_to_dataset_name = defaultdict(list)\n",
    "\n",
    "for response_filename in responses_filenames:\n",
    "    response = json.load(open(os.path.join(responses_path, response_filename)))\n",
    "    num_examples = len(response[\"QUERY_EXAMPLES_RESPONSES\"])\n",
    "    for example_idx in range(num_examples):\n",
    "        answer_idx = int(response[\"QUERY_EXAMPLES_RESPONSES\"][example_idx])\n",
    "        global_config_name = response[\"GLOBAL_CONFIG_NAME\"]\n",
    "        baseline_name = global_config_name[4:global_config_name.find(\"-0000\")]\n",
    "        choice = response[\"GLOBAL_CONFIG\"][\"QUERY_EXAMPLES\"][example_idx][\"choices\"][answer_idx]\n",
    "        dataset_idx_s = choice.find(\"nerfiller_videos_occluder\") + len(\"nerfiller_videos_occluder/\")\n",
    "        dataset_idx_e = choice.find(\"-\", dataset_idx_s)\n",
    "        dataset_name = choice[dataset_idx_s:dataset_idx_e]\n",
    "        chosen_method = choice[dataset_idx_e+1:-4]\n",
    "        baseline_to_choice[baseline_name].append(chosen_method)\n",
    "        baseline_to_dataset_name[baseline_name].append(dataset_name)\n",
    "        # print(baseline_name, \":::\", dataset_name, \":::\", chosen_method)"
   ]
  },
  {
   "cell_type": "code",
   "execution_count": null,
   "id": "542d4390",
   "metadata": {},
   "outputs": [],
   "source": [
    "scene_dataset_names = [\n",
    "    \"billiards\",\n",
    "    # \"dumptruck\",\n",
    "    \"office\",\n",
    "    \"backpack\",\n",
    "    \"drawing\",\n",
    "    \"norway\",\n",
    "    # \"boot\",\n",
    "    # \"bear\",\n",
    "    # \"cat\",\n",
    "    # \"turtle\",\n",
    "]\n",
    "object_dataset_names = [\n",
    "    # \"billiards\",\n",
    "    \"dumptruck\",\n",
    "    # \"office\",\n",
    "    # \"backpack\",\n",
    "    # \"drawing\",\n",
    "    # \"norway\",\n",
    "    \"boot\",\n",
    "    \"bear\",\n",
    "    \"cat\",\n",
    "    \"turtle\",\n",
    "]\n",
    "dataset_filter = set(dataset_names)\n",
    "\n",
    "num = 0\n",
    "den = 0\n",
    "baseline_name = \"individual-lama-individual-inpaint-once\"\n",
    "for i in range(len(baseline_to_choice[baseline_name])):\n",
    "    value = baseline_to_choice[baseline_name][i]\n",
    "    dataset_name = baseline_to_dataset_name[baseline_name][i]\n",
    "    if dataset_name not in dataset_filter:\n",
    "        continue\n",
    "    num += 1 if value == \"none-grid-prior-du\" else 0\n",
    "    den += 1\n",
    "print(baseline_name, num/den)\n",
    "\n",
    "num = 0\n",
    "den = 0\n",
    "baseline_name = \"individual-sd-image-individual-inpaint-once\"\n",
    "for i in range(len(baseline_to_choice[baseline_name])):\n",
    "    value = baseline_to_choice[baseline_name][i]\n",
    "    dataset_name = baseline_to_dataset_name[baseline_name][i]\n",
    "    if dataset_name not in dataset_filter:\n",
    "        continue\n",
    "    num += 1 if value == \"none-grid-prior-du\" else 0\n",
    "    den += 1\n",
    "print(baseline_name, num/den)\n",
    "\n",
    "num = 0\n",
    "den = 0\n",
    "baseline_name = \"none-individual-inpaint-du\"\n",
    "for i in range(len(baseline_to_choice[baseline_name])):\n",
    "    value = baseline_to_choice[baseline_name][i]\n",
    "    dataset_name = baseline_to_dataset_name[baseline_name][i]\n",
    "    if dataset_name not in dataset_filter:\n",
    "        continue\n",
    "    num += 1 if value == \"none-grid-prior-du\" else 0\n",
    "    den += 1\n",
    "print(baseline_name, num/den)"
   ]
  },
  {
   "cell_type": "code",
   "execution_count": null,
   "id": "0e54b817",
   "metadata": {},
   "outputs": [],
   "source": [
    "# worker_ids = []\n",
    "# for hit_id in responses.keys():\n",
    "#     status = requester.client.get_hit(HITId=hit_id)\n",
    "#     listed_responses = requester.client.list_assignments_for_hit(HITId=hit_id)\n",
    "#     worker_id = listed_responses[\"Assignments\"][0][\"WorkerId\"]\n",
    "#     print()\n",
    "#     print(\"worker_id:\", worker_id)\n",
    "#     print()\n",
    "#     worker_ids.append(worker_id)\n",
    "#     assert len(responses[hit_id])"
   ]
  },
  {
   "cell_type": "code",
   "execution_count": null,
   "id": "d69501b1",
   "metadata": {},
   "outputs": [],
   "source": []
  }
 ],
 "metadata": {
  "interpreter": {
   "hash": "222f01b76026723deb90f6521b6c50a7801729930bc95e5d89f12540abde614b"
  },
  "kernelspec": {
   "display_name": "Python 3",
   "language": "python",
   "name": "python3"
  },
  "language_info": {
   "codemirror_mode": {
    "name": "ipython",
    "version": 3
   },
   "file_extension": ".py",
   "mimetype": "text/x-python",
   "name": "python",
   "nbconvert_exporter": "python",
   "pygments_lexer": "ipython3",
   "version": "3.8.16"
  }
 },
 "nbformat": 4,
 "nbformat_minor": 5
}
