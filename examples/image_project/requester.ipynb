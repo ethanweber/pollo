{
 "cells": [
  {
   "cell_type": "code",
   "execution_count": 1,
   "id": "b44377de-8276-483d-8264-99d3f19e4b1b",
   "metadata": {},
   "outputs": [
    {
     "ename": "ModuleNotFoundError",
     "evalue": "No module named 'pollo'",
     "output_type": "error",
     "traceback": [
      "\u001b[0;31m---------------------------------------------------------------------------\u001b[0m",
      "\u001b[0;31mModuleNotFoundError\u001b[0m                       Traceback (most recent call last)",
      "Cell \u001b[0;32mIn [1], line 10\u001b[0m\n\u001b[1;32m      7\u001b[0m \u001b[38;5;28;01mimport\u001b[39;00m \u001b[38;5;21;01mos\u001b[39;00m\n\u001b[1;32m      9\u001b[0m \u001b[38;5;66;03m# Local application/library specific imports\u001b[39;00m\n\u001b[0;32m---> 10\u001b[0m \u001b[38;5;28;01mfrom\u001b[39;00m \u001b[38;5;21;01mpollo\u001b[39;00m\u001b[38;5;21;01m.\u001b[39;00m\u001b[38;5;21;01mutils\u001b[39;00m\u001b[38;5;21;01m.\u001b[39;00m\u001b[38;5;21;01mhit\u001b[39;00m \u001b[38;5;28;01mimport\u001b[39;00m HitMaker\n\u001b[1;32m     11\u001b[0m \u001b[38;5;28;01mimport\u001b[39;00m \u001b[38;5;21;01mpollo\u001b[39;00m\u001b[38;5;21;01m.\u001b[39;00m\u001b[38;5;21;01mutils\u001b[39;00m\u001b[38;5;21;01m.\u001b[39;00m\u001b[38;5;21;01mio\u001b[39;00m \u001b[38;5;28;01mas\u001b[39;00m \u001b[38;5;21;01mio_utils\u001b[39;00m\n",
      "\u001b[0;31mModuleNotFoundError\u001b[0m: No module named 'pollo'"
     ]
    }
   ],
   "source": [
    "# Autoreload extension for interactive development\n",
    "%load_ext autoreload\n",
    "%autoreload 2\n",
    "\n",
    "# Standard library imports\n",
    "import json\n",
    "import os\n",
    "\n",
    "# Local application/library specific imports\n",
    "from pollo.utils.hit import HitMaker\n",
    "import pollo.utils.io as io_utils"
   ]
  },
  {
   "cell_type": "markdown",
   "id": "51eb6e86-a2ff-4b61-9e69-a7fe498eea11",
   "metadata": {},
   "source": [
    "### Create and save some HITs as JSON files"
   ]
  },
  {
   "cell_type": "code",
   "execution_count": null,
   "id": "1fce691e",
   "metadata": {},
   "outputs": [],
   "source": [
    "class ImageHitMaker(HitMaker):\n",
    "    \"\"\"Image hit maker.\"\"\""
   ]
  },
  {
   "cell_type": "code",
   "execution_count": null,
   "id": "7e55ac27",
   "metadata": {},
   "outputs": [],
   "source": [
    "ENDPOINT = \"https://mturk.ethanweber.me\"\n",
    "MOVIE_FOLDER = \"https://mturk.ethanweber.me/static/data/media/nerfiller_videos_occluder\"\n",
    "HIT_FOLDER = \"/home/ethanweber/anno/static/data/hits\"\n",
    "dataset_names = [\n",
    "    \"billiards\",\n",
    "    \"dumptruck\",\n",
    "    \"office\",\n",
    "    \"backpack\",\n",
    "    \"drawing\",\n",
    "    \"norway\",\n",
    "    \"boot\",\n",
    "    \"bear\",\n",
    "    \"cat\",\n",
    "    \"turtle\",\n",
    "]\n",
    "baseline_names = [\n",
    "    \"individual-lama-individual-inpaint-once\", # LaMask\n",
    "    \"individual-sd-image-individual-inpaint-once\", # SD Image Cond\n",
    "    \"none-individual-inpaint-du\", # Inpaint + DU\n",
    "]\n",
    "mask_name = \"none-nerfacto-nerfiller-visualize\"\n",
    "our_name = \"none-grid-prior-du\"\n",
    "hit_maker = NerfillerHitMaker()\n",
    "\n",
    "baseline_to_query_examples = {}\n",
    "hits_per_baseline = 20"
   ]
  },
  {
   "cell_type": "code",
   "execution_count": null,
   "id": "35914a53",
   "metadata": {},
   "outputs": [],
   "source": [
    "# for baseline_name in baseline_names:\n",
    "#     for i in range(hits_per_baseline):\n",
    "#         query_examples = []\n",
    "#         for dataset_name in dataset_names:\n",
    "#             choices = [\n",
    "#                 f\"https://mturk.ethanweber.me/static/data/media/nerfiller_videos_occluder/{dataset_name}-{baseline_name}.mp4\",\n",
    "#                 f\"https://mturk.ethanweber.me/static/data/media/nerfiller_videos_occluder/{dataset_name}-{our_name}.mp4\",\n",
    "#             ]\n",
    "#             query_examples.append({\n",
    "#                 \"video_to_inpaint\": f\"https://mturk.ethanweber.me/static/data/media/nerfiller_videos_occluder/{dataset_name}-{mask_name}.mp4\",\n",
    "#                 \"choices\": choices,\n",
    "#             })\n",
    "#         for dataset_name in dataset_names:\n",
    "#             choices_reversed = [\n",
    "#                 f\"https://mturk.ethanweber.me/static/data/media/nerfiller_videos_occluder/{dataset_name}-{our_name}.mp4\",\n",
    "#                 f\"https://mturk.ethanweber.me/static/data/media/nerfiller_videos_occluder/{dataset_name}-{baseline_name}.mp4\",\n",
    "#             ]\n",
    "#             query_examples.append({\n",
    "#                 \"video_to_inpaint\": f\"https://mturk.ethanweber.me/static/data/media/nerfiller_videos_occluder/{dataset_name}-{mask_name}.mp4\",\n",
    "#                 \"choices\": choices_reversed\n",
    "#             })\n",
    "#         hit = hit_maker.get_hit(\n",
    "#             gt_query_examples=[],\n",
    "#             query_examples=query_examples\n",
    "#         )\n",
    "#         config_name = f\"hit-{baseline_name}-{i:06d}\"\n",
    "#         # print(config_name)\n",
    "#         write_to_json(os.path.join(HIT_FOLDER, config_name + \".json\"), hit)"
   ]
  },
  {
   "cell_type": "markdown",
   "id": "bd9a8781-1ec1-46f5-8563-e51b2c05fd94",
   "metadata": {},
   "source": [
    "### Launch some HITs and monitor progress"
   ]
  },
  {
   "cell_type": "code",
   "execution_count": null,
   "id": "06f39afb-e688-4cbd-8c8d-08828fb69e19",
   "metadata": {},
   "outputs": [],
   "source": [
    "from anno.requester import Requester"
   ]
  },
  {
   "cell_type": "code",
   "execution_count": null,
   "id": "4d5e5a0b-c8d5-4785-b5ff-e85d4316845a",
   "metadata": {},
   "outputs": [],
   "source": [
    "use_sandbox = False\n",
    "DATABASE_FILENAME = \"mturk_database.pkl\"\n",
    "CREDS_FILENAME = \"mturk_creds.json\"\n",
    "\n",
    "requester = Requester(use_sandbox=use_sandbox,\n",
    "                      database_filename=DATABASE_FILENAME,\n",
    "                      creds_filename=CREDS_FILENAME)\n",
    "requester.show_account_balance()"
   ]
  },
  {
   "cell_type": "code",
   "execution_count": null,
   "id": "b99cbab0-b5a9-421a-868a-9f0008c51a01",
   "metadata": {},
   "outputs": [],
   "source": [
    "lifetime_hours = 1\n",
    "per_hit_minutes = 15\n",
    "cost_per_hit = '0.5'\n",
    "days_until_autoapprove = 2\n",
    "estimated_time_in_minutes = 10\n",
    "task_attributes = {\n",
    "    # Number of assignments per task.\n",
    "    'MaxAssignments': 1,\n",
    "    # How long the task will be available on MTurk\n",
    "    'LifetimeInSeconds': 60 * 60 * lifetime_hours,\n",
    "    # How long Workers have to complete each item\n",
    "    'AssignmentDurationInSeconds': 60 * per_hit_minutes,\n",
    "    # The reward you will offer Workers for each response\n",
    "    'Reward': cost_per_hit,\n",
    "    'Title': 'Choosing which video looks better. (~{} min)'.format(estimated_time_in_minutes),\n",
    "    'Keywords': 'video, choice, computer vison, selection',\n",
    "    'Description': 'Choose which of the two videos looks better.',\n",
    "    'AutoApprovalDelayInSeconds': days_until_autoapprove * (60*60*24)\n",
    "}\n",
    "requester.set_task_attributes(task_attributes)"
   ]
  },
  {
   "cell_type": "code",
   "execution_count": null,
   "id": "c9abd458",
   "metadata": {},
   "outputs": [],
   "source": [
    "# existing_external_urls = set(external_urls)"
   ]
  },
  {
   "cell_type": "code",
   "execution_count": null,
   "id": "103dcf68",
   "metadata": {},
   "outputs": [],
   "source": [
    "# existing_external_urls"
   ]
  },
  {
   "cell_type": "code",
   "execution_count": null,
   "id": "637fda2d-e3c2-4ba7-a31b-75f6f745ba7b",
   "metadata": {},
   "outputs": [],
   "source": [
    "external_urls = []\n",
    "for filename in sorted(os.listdir(HIT_FOLDER)):\n",
    "    external_url = os.path.join(ENDPOINT, \"interface\", filename.replace(\".json\", \"\"))\n",
    "    external_urls.append(external_url)"
   ]
  },
  {
   "cell_type": "code",
   "execution_count": null,
   "id": "f24a8d42-46b3-4647-aefb-bc766337a664",
   "metadata": {
    "tags": []
   },
   "outputs": [],
   "source": [
    "hit_ids = requester.submit_hits_from_external_urls(external_urls)"
   ]
  },
  {
   "cell_type": "code",
   "execution_count": null,
   "id": "0d8ec81a",
   "metadata": {},
   "outputs": [],
   "source": [
    "requester.update_database_with_responses()"
   ]
  },
  {
   "cell_type": "code",
   "execution_count": null,
   "id": "ca18ff1b",
   "metadata": {},
   "outputs": [],
   "source": [
    "responses = requester.get_responses_from_database()\n",
    "len(responses)"
   ]
  },
  {
   "cell_type": "code",
   "execution_count": null,
   "id": "6979fc65",
   "metadata": {},
   "outputs": [],
   "source": [
    "# minutes per HIT on average\n",
    "requester.get_mean_time_from_resonses(responses) / 60"
   ]
  },
  {
   "cell_type": "code",
   "execution_count": null,
   "id": "a001ce3b-a689-4608-a6fb-285ced22582c",
   "metadata": {},
   "outputs": [],
   "source": [
    "requester.save_all_responses_to_files(responses)"
   ]
  },
  {
   "cell_type": "code",
   "execution_count": null,
   "id": "33c2a9ab",
   "metadata": {},
   "outputs": [],
   "source": [
    "# process all the results\n",
    "\n",
    "responses_path = \"/home/ethanweber/nerfiller-user-study/static/data/responses\"\n",
    "responses_filenames = sorted(os.listdir(responses_path))\n",
    "\n",
    "from collections import defaultdict\n",
    "baseline_to_choice = defaultdict(list)\n",
    "baseline_to_dataset_name = defaultdict(list)\n",
    "\n",
    "for response_filename in responses_filenames:\n",
    "    response = json.load(open(os.path.join(responses_path, response_filename)))\n",
    "    num_examples = len(response[\"QUERY_EXAMPLES_RESPONSES\"])\n",
    "    for example_idx in range(num_examples):\n",
    "        answer_idx = int(response[\"QUERY_EXAMPLES_RESPONSES\"][example_idx])\n",
    "        global_config_name = response[\"GLOBAL_CONFIG_NAME\"]\n",
    "        baseline_name = global_config_name[4:global_config_name.find(\"-0000\")]\n",
    "        choice = response[\"GLOBAL_CONFIG\"][\"QUERY_EXAMPLES\"][example_idx][\"choices\"][answer_idx]\n",
    "        dataset_idx_s = choice.find(\"nerfiller_videos_occluder\") + len(\"nerfiller_videos_occluder/\")\n",
    "        dataset_idx_e = choice.find(\"-\", dataset_idx_s)\n",
    "        dataset_name = choice[dataset_idx_s:dataset_idx_e]\n",
    "        chosen_method = choice[dataset_idx_e+1:-4]\n",
    "        baseline_to_choice[baseline_name].append(chosen_method)\n",
    "        baseline_to_dataset_name[baseline_name].append(dataset_name)\n",
    "        # print(baseline_name, \":::\", dataset_name, \":::\", chosen_method)"
   ]
  },
  {
   "cell_type": "code",
   "execution_count": null,
   "id": "542d4390",
   "metadata": {},
   "outputs": [],
   "source": [
    "scene_dataset_names = [\n",
    "    \"billiards\",\n",
    "    # \"dumptruck\",\n",
    "    \"office\",\n",
    "    \"backpack\",\n",
    "    \"drawing\",\n",
    "    \"norway\",\n",
    "    # \"boot\",\n",
    "    # \"bear\",\n",
    "    # \"cat\",\n",
    "    # \"turtle\",\n",
    "]\n",
    "object_dataset_names = [\n",
    "    # \"billiards\",\n",
    "    \"dumptruck\",\n",
    "    # \"office\",\n",
    "    # \"backpack\",\n",
    "    # \"drawing\",\n",
    "    # \"norway\",\n",
    "    \"boot\",\n",
    "    \"bear\",\n",
    "    \"cat\",\n",
    "    \"turtle\",\n",
    "]\n",
    "dataset_filter = set(dataset_names)\n",
    "\n",
    "num = 0\n",
    "den = 0\n",
    "baseline_name = \"individual-lama-individual-inpaint-once\"\n",
    "for i in range(len(baseline_to_choice[baseline_name])):\n",
    "    value = baseline_to_choice[baseline_name][i]\n",
    "    dataset_name = baseline_to_dataset_name[baseline_name][i]\n",
    "    if dataset_name not in dataset_filter:\n",
    "        continue\n",
    "    num += 1 if value == \"none-grid-prior-du\" else 0\n",
    "    den += 1\n",
    "print(baseline_name, num/den)\n",
    "\n",
    "num = 0\n",
    "den = 0\n",
    "baseline_name = \"individual-sd-image-individual-inpaint-once\"\n",
    "for i in range(len(baseline_to_choice[baseline_name])):\n",
    "    value = baseline_to_choice[baseline_name][i]\n",
    "    dataset_name = baseline_to_dataset_name[baseline_name][i]\n",
    "    if dataset_name not in dataset_filter:\n",
    "        continue\n",
    "    num += 1 if value == \"none-grid-prior-du\" else 0\n",
    "    den += 1\n",
    "print(baseline_name, num/den)\n",
    "\n",
    "num = 0\n",
    "den = 0\n",
    "baseline_name = \"none-individual-inpaint-du\"\n",
    "for i in range(len(baseline_to_choice[baseline_name])):\n",
    "    value = baseline_to_choice[baseline_name][i]\n",
    "    dataset_name = baseline_to_dataset_name[baseline_name][i]\n",
    "    if dataset_name not in dataset_filter:\n",
    "        continue\n",
    "    num += 1 if value == \"none-grid-prior-du\" else 0\n",
    "    den += 1\n",
    "print(baseline_name, num/den)"
   ]
  },
  {
   "cell_type": "code",
   "execution_count": null,
   "id": "0e54b817",
   "metadata": {},
   "outputs": [],
   "source": [
    "# worker_ids = []\n",
    "# for hit_id in responses.keys():\n",
    "#     status = requester.client.get_hit(HITId=hit_id)\n",
    "#     listed_responses = requester.client.list_assignments_for_hit(HITId=hit_id)\n",
    "#     worker_id = listed_responses[\"Assignments\"][0][\"WorkerId\"]\n",
    "#     print()\n",
    "#     print(\"worker_id:\", worker_id)\n",
    "#     print()\n",
    "#     worker_ids.append(worker_id)\n",
    "#     assert len(responses[hit_id])"
   ]
  },
  {
   "cell_type": "code",
   "execution_count": null,
   "id": "d69501b1",
   "metadata": {},
   "outputs": [],
   "source": []
  }
 ],
 "metadata": {
  "interpreter": {
   "hash": "222f01b76026723deb90f6521b6c50a7801729930bc95e5d89f12540abde614b"
  },
  "kernelspec": {
   "display_name": "Python 3",
   "language": "python",
   "name": "python3"
  },
  "language_info": {
   "codemirror_mode": {
    "name": "ipython",
    "version": 3
   },
   "file_extension": ".py",
   "mimetype": "text/x-python",
   "name": "python",
   "nbconvert_exporter": "python",
   "pygments_lexer": "ipython3",
   "version": "3.8.16"
  }
 },
 "nbformat": 4,
 "nbformat_minor": 5
}
